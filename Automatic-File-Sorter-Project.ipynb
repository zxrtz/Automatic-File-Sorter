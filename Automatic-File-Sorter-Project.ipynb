{
 "cells": [
  {
   "cell_type": "markdown",
   "metadata": {},
   "source": [
    "Automatic File Sorter in File Explorer"
   ]
  },
  {
   "cell_type": "code",
   "execution_count": 21,
   "metadata": {},
   "outputs": [],
   "source": [
    "import os, shutil"
   ]
  },
  {
   "cell_type": "code",
   "execution_count": 22,
   "metadata": {},
   "outputs": [],
   "source": [
    "path = r\"C:/Users/dylan/OneDrive/Videos/Desktop/ds/python/PROJECT - Automatic File Sorter - alex/Sample folder for file sorter/\""
   ]
  },
  {
   "cell_type": "code",
   "execution_count": null,
   "metadata": {},
   "outputs": [],
   "source": [
    "file_names = os.listdir(path)"
   ]
  },
  {
   "cell_type": "code",
   "execution_count": 24,
   "metadata": {},
   "outputs": [
    {
     "name": "stdout",
     "output_type": "stream",
     "text": [
      "C:/Users/dylan/OneDrive/Videos/Desktop/ds/python/PROJECT - Automatic File Sorter - alex/Sample folder for file sorter/excel files\n",
      "C:/Users/dylan/OneDrive/Videos/Desktop/ds/python/PROJECT - Automatic File Sorter - alex/Sample folder for file sorter/image files\n",
      "C:/Users/dylan/OneDrive/Videos/Desktop/ds/python/PROJECT - Automatic File Sorter - alex/Sample folder for file sorter/text files\n"
     ]
    }
   ],
   "source": [
    "folder_names = ['excel files', 'image files', 'text files']\n",
    "\n",
    "for loop in range(0,len(folder_names)) :\n",
    "    if not os.path.exists(path + folder_names[loop]) :\n",
    "        print(path + folder_names[loop])\n",
    "        os.makedirs(path + folder_names[loop])"
   ]
  },
  {
   "cell_type": "code",
   "execution_count": null,
   "metadata": {},
   "outputs": [],
   "source": [
    "for file in file_names : \n",
    "    if \".xlsx\" in file and not os.path.exists(path + \"/excel files/\" + file) :\n",
    "        shutil.move(path + file, path + \"/excel files/\" + file)\n",
    "    elif \".jpg\" in file and not os.path.exists(path + \"/image files/\" + file) :\n",
    "        shutil.move(path + file, path + \"/image files/\" + file)\n",
    "    elif \".png\" in file and not os.path.exists(path + \"/image files/\" + file) :\n",
    "        shutil.move(path + file, path + \"/image files/\" + file)\n",
    "    elif \".txt\" in file and not os.path.exists(path + \"/text files/\" + file) :\n",
    "        shutil.move(path + file, path + \"/text files/\" + file)\n",
    "    else :\n",
    "        print(\"There were files that weren't moved.\")"
   ]
  },
  {
   "cell_type": "code",
   "execution_count": null,
   "metadata": {},
   "outputs": [],
   "source": []
  },
  {
   "cell_type": "code",
   "execution_count": null,
   "metadata": {},
   "outputs": [],
   "source": []
  },
  {
   "cell_type": "code",
   "execution_count": null,
   "metadata": {},
   "outputs": [],
   "source": []
  },
  {
   "cell_type": "code",
   "execution_count": null,
   "metadata": {},
   "outputs": [],
   "source": []
  },
  {
   "cell_type": "code",
   "execution_count": null,
   "metadata": {},
   "outputs": [],
   "source": []
  },
  {
   "cell_type": "code",
   "execution_count": null,
   "metadata": {},
   "outputs": [],
   "source": []
  },
  {
   "cell_type": "code",
   "execution_count": null,
   "metadata": {},
   "outputs": [],
   "source": []
  }
 ],
 "metadata": {
  "kernelspec": {
   "display_name": "base",
   "language": "python",
   "name": "python3"
  },
  "language_info": {
   "codemirror_mode": {
    "name": "ipython",
    "version": 3
   },
   "file_extension": ".py",
   "mimetype": "text/x-python",
   "name": "python",
   "nbconvert_exporter": "python",
   "pygments_lexer": "ipython3",
   "version": "3.12.7"
  }
 },
 "nbformat": 4,
 "nbformat_minor": 2
}
